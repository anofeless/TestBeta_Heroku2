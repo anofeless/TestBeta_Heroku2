{
 "cells": [
  {
   "cell_type": "code",
   "execution_count": 1,
   "id": "7d083c18",
   "metadata": {
    "scrolled": false
   },
   "outputs": [
    {
     "data": {
      "application/vnd.jupyter.widget-view+json": {
       "model_id": "a389aed7658f42878895689240a50746",
       "version_major": 2,
       "version_minor": 0
      },
      "text/plain": [
       "AppLayout(children=(Tab(children=(GridBox(children=(Text(value='User Name', description='UserName:', layout=La…"
      ]
     },
     "metadata": {},
     "output_type": "display_data"
    },
    {
     "name": "stdout",
     "output_type": "stream",
     "text": [
      "self.colNames ['Total', 'AlphaTest-1-PartA', 'AlphaTest-1-PartB', 'AlphaTest-2-PartA']\n",
      "self.Points [[0, 0, 0, 0]]\n"
     ]
    }
   ],
   "source": [
    "from IPython.display import HTML\n",
    "from IPython.display import display\n",
    "from IPython.display import HTML\n",
    "import IPython.core.display as di\n",
    "import ipywidgets as widgets\n",
    "from CrossTrainingLeagueClass_TestAlpha import CrossTrainingLeague_ZGZ\n",
    "cf=CrossTrainingLeague_ZGZ()\n",
    "widgets.AppLayout(#header=cf.header_widget(),\n",
    "\n",
    "          center=cf.main(),\n",
    "pane_widths=[0,'700px',0])\n"
   ]
  },
  {
   "cell_type": "code",
   "execution_count": 1,
   "id": "07662a19",
   "metadata": {},
   "outputs": [],
   "source": [
    "import os\n",
    "import pickle\n",
    "if os.path.exists(os.path.join(os.getcwd(),'DataBase.users')):\n",
    "    with open(os.path.join(os.getcwd(),'DataBase.users'), 'rb') as fin:\n",
    "        DataBase=pickle.load(fin)"
   ]
  },
  {
   "cell_type": "code",
   "execution_count": 3,
   "id": "f15c081d",
   "metadata": {},
   "outputs": [
    {
     "data": {
      "text/plain": [
       "dict_keys(['Asier', 'Raquel', 'Sheila', 'Guille', 'Torres', 'Laura ', 'Javier Miralles ', 'Leo', 'Nath'])"
      ]
     },
     "execution_count": 3,
     "metadata": {},
     "output_type": "execute_result"
    }
   ],
   "source": [
    "DataBase.keys()"
   ]
  },
  {
   "cell_type": "code",
   "execution_count": null,
   "id": "e6171eff",
   "metadata": {},
   "outputs": [],
   "source": []
  }
 ],
 "metadata": {
  "kernelspec": {
   "display_name": "Python 3 (ipykernel)",
   "language": "python",
   "name": "python3"
  },
  "language_info": {
   "codemirror_mode": {
    "name": "ipython",
    "version": 3
   },
   "file_extension": ".py",
   "mimetype": "text/x-python",
   "name": "python",
   "nbconvert_exporter": "python",
   "pygments_lexer": "ipython3",
   "version": "3.9.7"
  }
 },
 "nbformat": 4,
 "nbformat_minor": 5
}
